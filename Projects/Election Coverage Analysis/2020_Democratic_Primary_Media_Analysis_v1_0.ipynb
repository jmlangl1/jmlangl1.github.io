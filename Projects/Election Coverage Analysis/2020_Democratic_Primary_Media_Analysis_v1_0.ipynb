{
 "cells": [
  {
   "cell_type": "markdown",
   "metadata": {},
   "source": [
    "## Presidential Candidate Media Analysis\n",
    "- This analysis investigated trends in volume of media coverage of the top 2020 Democratic presidential candidates from December 2018 to September 2019\n",
    "- Questions to answer:\n",
    "    - Who have been the most/least covered candidates?\n",
    "    - Have there been any significant trends in coverage in the last four weeks? Three months? Six months?\n",
    "    - Were there significant differences in coverage between candidates on cable and the internet?\n",
    "\n",
    "- Hypotheses:\n",
    "    - Joe Biden has been the most covered candidate but other candidates have seen increases in coverage in recent weeks.\n",
    "    - There were no differences in coverage of candidates between news mediums. \n",
    "    \n",
    "- Data source: https://github.com/fivethirtyeight/data/tree/master/media-mentions-2020"
   ]
  },
  {
   "cell_type": "markdown",
   "metadata": {},
   "source": [
    "### Section I: Import data / packages"
   ]
  },
  {
   "cell_type": "code",
   "execution_count": 1,
   "metadata": {},
   "outputs": [],
   "source": [
    "#Import packages\n",
    "import numpy as np\n",
    "import pandas as pd\n",
    "import datetime as dt\n",
    "import matplotlib.pyplot as plt\n",
    "import seaborn as sns\n",
    "import scipy.stats"
   ]
  },
  {
   "cell_type": "code",
   "execution_count": 2,
   "metadata": {},
   "outputs": [],
   "source": [
    "#Define function to import data from a csv file\n",
    "def import_data(filepath):\n",
    "    '''This function imports data from a csv file to a pandas dataframe'''\n",
    "    return pd.read_csv(filepath)"
   ]
  },
  {
   "cell_type": "code",
   "execution_count": 3,
   "metadata": {},
   "outputs": [],
   "source": [
    "#Import data\n",
    "# directory = r'C:\\Users\\T2ZKQ0\\Documents\\Python Scripts\\Media Analysis'\n",
    "# cable_path = directory + '\\\\' + 'cable_weekly.csv'\n",
    "# internet_path = directory + '\\\\' + 'online_weekly.csv'\n",
    "# df_cable = import_data(cable_path)\n",
    "# df_internet = import_data(internet_path)"
   ]
  },
  {
   "cell_type": "code",
   "execution_count": 4,
   "metadata": {},
   "outputs": [],
   "source": [
    "#Import data\n",
    "df_cable = import_data('cable_weekly.csv')\n",
    "df_internet = import_data('online_weekly.csv')"
   ]
  },
  {
   "cell_type": "markdown",
   "metadata": {},
   "source": [
    "### Section II: Data Exploration"
   ]
  },
  {
   "cell_type": "markdown",
   "metadata": {},
   "source": [
    "#### Generate brief views of the datasets"
   ]
  },
  {
   "cell_type": "code",
   "execution_count": 5,
   "metadata": {},
   "outputs": [
    {
     "data": {
      "text/html": [
       "<div>\n",
       "<style scoped>\n",
       "    .dataframe tbody tr th:only-of-type {\n",
       "        vertical-align: middle;\n",
       "    }\n",
       "\n",
       "    .dataframe tbody tr th {\n",
       "        vertical-align: top;\n",
       "    }\n",
       "\n",
       "    .dataframe thead th {\n",
       "        text-align: right;\n",
       "    }\n",
       "</style>\n",
       "<table border=\"1\" class=\"dataframe\">\n",
       "  <thead>\n",
       "    <tr style=\"text-align: right;\">\n",
       "      <th></th>\n",
       "      <th>date</th>\n",
       "      <th>name</th>\n",
       "      <th>matched_clips</th>\n",
       "      <th>all_candidate_clips</th>\n",
       "      <th>total_clips</th>\n",
       "      <th>pct_of_all_candidate_clips</th>\n",
       "      <th>query</th>\n",
       "    </tr>\n",
       "  </thead>\n",
       "  <tbody>\n",
       "    <tr>\n",
       "      <th>0</th>\n",
       "      <td>2018-12-30</td>\n",
       "      <td>Amy Klobuchar</td>\n",
       "      <td>12</td>\n",
       "      <td>1249</td>\n",
       "      <td>76029</td>\n",
       "      <td>0.009608</td>\n",
       "      <td>(\"Amy Klobuchar\") (station:MSNBC OR station:CN...</td>\n",
       "    </tr>\n",
       "    <tr>\n",
       "      <th>1</th>\n",
       "      <td>2019-01-06</td>\n",
       "      <td>Amy Klobuchar</td>\n",
       "      <td>7</td>\n",
       "      <td>1013</td>\n",
       "      <td>82964</td>\n",
       "      <td>0.006910</td>\n",
       "      <td>(\"Amy Klobuchar\") (station:MSNBC OR station:CN...</td>\n",
       "    </tr>\n",
       "    <tr>\n",
       "      <th>2</th>\n",
       "      <td>2019-01-13</td>\n",
       "      <td>Amy Klobuchar</td>\n",
       "      <td>45</td>\n",
       "      <td>596</td>\n",
       "      <td>82521</td>\n",
       "      <td>0.075503</td>\n",
       "      <td>(\"Amy Klobuchar\") (station:MSNBC OR station:CN...</td>\n",
       "    </tr>\n",
       "    <tr>\n",
       "      <th>3</th>\n",
       "      <td>2019-01-20</td>\n",
       "      <td>Amy Klobuchar</td>\n",
       "      <td>10</td>\n",
       "      <td>962</td>\n",
       "      <td>83649</td>\n",
       "      <td>0.010395</td>\n",
       "      <td>(\"Amy Klobuchar\") (station:MSNBC OR station:CN...</td>\n",
       "    </tr>\n",
       "    <tr>\n",
       "      <th>4</th>\n",
       "      <td>2019-01-27</td>\n",
       "      <td>Amy Klobuchar</td>\n",
       "      <td>16</td>\n",
       "      <td>1889</td>\n",
       "      <td>80994</td>\n",
       "      <td>0.008470</td>\n",
       "      <td>(\"Amy Klobuchar\") (station:MSNBC OR station:CN...</td>\n",
       "    </tr>\n",
       "  </tbody>\n",
       "</table>\n",
       "</div>"
      ],
      "text/plain": [
       "         date           name  matched_clips  all_candidate_clips  total_clips  \\\n",
       "0  2018-12-30  Amy Klobuchar             12                 1249        76029   \n",
       "1  2019-01-06  Amy Klobuchar              7                 1013        82964   \n",
       "2  2019-01-13  Amy Klobuchar             45                  596        82521   \n",
       "3  2019-01-20  Amy Klobuchar             10                  962        83649   \n",
       "4  2019-01-27  Amy Klobuchar             16                 1889        80994   \n",
       "\n",
       "   pct_of_all_candidate_clips  \\\n",
       "0                    0.009608   \n",
       "1                    0.006910   \n",
       "2                    0.075503   \n",
       "3                    0.010395   \n",
       "4                    0.008470   \n",
       "\n",
       "                                               query  \n",
       "0  (\"Amy Klobuchar\") (station:MSNBC OR station:CN...  \n",
       "1  (\"Amy Klobuchar\") (station:MSNBC OR station:CN...  \n",
       "2  (\"Amy Klobuchar\") (station:MSNBC OR station:CN...  \n",
       "3  (\"Amy Klobuchar\") (station:MSNBC OR station:CN...  \n",
       "4  (\"Amy Klobuchar\") (station:MSNBC OR station:CN...  "
      ]
     },
     "execution_count": 5,
     "metadata": {},
     "output_type": "execute_result"
    }
   ],
   "source": [
    "df_cable.head()"
   ]
  },
  {
   "cell_type": "code",
   "execution_count": 6,
   "metadata": {},
   "outputs": [
    {
     "data": {
      "text/html": [
       "<div>\n",
       "<style scoped>\n",
       "    .dataframe tbody tr th:only-of-type {\n",
       "        vertical-align: middle;\n",
       "    }\n",
       "\n",
       "    .dataframe tbody tr th {\n",
       "        vertical-align: top;\n",
       "    }\n",
       "\n",
       "    .dataframe thead th {\n",
       "        text-align: right;\n",
       "    }\n",
       "</style>\n",
       "<table border=\"1\" class=\"dataframe\">\n",
       "  <thead>\n",
       "    <tr style=\"text-align: right;\">\n",
       "      <th></th>\n",
       "      <th>date</th>\n",
       "      <th>name</th>\n",
       "      <th>matched_stories</th>\n",
       "      <th>all_candidate_stories</th>\n",
       "      <th>pct_of_all_candidate_stories</th>\n",
       "      <th>query</th>\n",
       "    </tr>\n",
       "  </thead>\n",
       "  <tbody>\n",
       "    <tr>\n",
       "      <th>0</th>\n",
       "      <td>2018-12-30</td>\n",
       "      <td>Amy Klobuchar</td>\n",
       "      <td>45.0</td>\n",
       "      <td>787</td>\n",
       "      <td>0.057179</td>\n",
       "      <td>(\"Amy Klobuchar\")</td>\n",
       "    </tr>\n",
       "    <tr>\n",
       "      <th>1</th>\n",
       "      <td>2019-01-06</td>\n",
       "      <td>Amy Klobuchar</td>\n",
       "      <td>55.0</td>\n",
       "      <td>912</td>\n",
       "      <td>0.060307</td>\n",
       "      <td>(\"Amy Klobuchar\")</td>\n",
       "    </tr>\n",
       "    <tr>\n",
       "      <th>2</th>\n",
       "      <td>2019-01-13</td>\n",
       "      <td>Amy Klobuchar</td>\n",
       "      <td>128.0</td>\n",
       "      <td>1028</td>\n",
       "      <td>0.124514</td>\n",
       "      <td>(\"Amy Klobuchar\")</td>\n",
       "    </tr>\n",
       "    <tr>\n",
       "      <th>3</th>\n",
       "      <td>2019-01-20</td>\n",
       "      <td>Amy Klobuchar</td>\n",
       "      <td>54.0</td>\n",
       "      <td>1012</td>\n",
       "      <td>0.053360</td>\n",
       "      <td>(\"Amy Klobuchar\")</td>\n",
       "    </tr>\n",
       "    <tr>\n",
       "      <th>4</th>\n",
       "      <td>2019-01-27</td>\n",
       "      <td>Amy Klobuchar</td>\n",
       "      <td>74.0</td>\n",
       "      <td>1594</td>\n",
       "      <td>0.046424</td>\n",
       "      <td>(\"Amy Klobuchar\")</td>\n",
       "    </tr>\n",
       "  </tbody>\n",
       "</table>\n",
       "</div>"
      ],
      "text/plain": [
       "         date           name  matched_stories  all_candidate_stories  \\\n",
       "0  2018-12-30  Amy Klobuchar             45.0                    787   \n",
       "1  2019-01-06  Amy Klobuchar             55.0                    912   \n",
       "2  2019-01-13  Amy Klobuchar            128.0                   1028   \n",
       "3  2019-01-20  Amy Klobuchar             54.0                   1012   \n",
       "4  2019-01-27  Amy Klobuchar             74.0                   1594   \n",
       "\n",
       "   pct_of_all_candidate_stories              query  \n",
       "0                      0.057179  (\"Amy Klobuchar\")  \n",
       "1                      0.060307  (\"Amy Klobuchar\")  \n",
       "2                      0.124514  (\"Amy Klobuchar\")  \n",
       "3                      0.053360  (\"Amy Klobuchar\")  \n",
       "4                      0.046424  (\"Amy Klobuchar\")  "
      ]
     },
     "execution_count": 6,
     "metadata": {},
     "output_type": "execute_result"
    }
   ],
   "source": [
    "df_internet.head()"
   ]
  },
  {
   "cell_type": "markdown",
   "metadata": {},
   "source": [
    "#### Show the summary statistics"
   ]
  },
  {
   "cell_type": "code",
   "execution_count": 7,
   "metadata": {},
   "outputs": [],
   "source": [
    "def summary_stats(df):\n",
    "    '''This function will print summary stats on the provided dataframe'''\n",
    "    print(df.info(), '\\n')\n",
    "    print(df.describe())"
   ]
  },
  {
   "cell_type": "code",
   "execution_count": 8,
   "metadata": {},
   "outputs": [
    {
     "name": "stdout",
     "output_type": "stream",
     "text": [
      "<class 'pandas.core.frame.DataFrame'>\n",
      "RangeIndex: 899 entries, 0 to 898\n",
      "Data columns (total 7 columns):\n",
      "date                          899 non-null object\n",
      "name                          899 non-null object\n",
      "matched_clips                 899 non-null int64\n",
      "all_candidate_clips           899 non-null int64\n",
      "total_clips                   899 non-null int64\n",
      "pct_of_all_candidate_clips    899 non-null float64\n",
      "query                         899 non-null object\n",
      "dtypes: float64(1), int64(3), object(3)\n",
      "memory usage: 49.3+ KB\n",
      "None \n",
      "\n",
      "       matched_clips  all_candidate_clips   total_clips  \\\n",
      "count     899.000000           899.000000    899.000000   \n",
      "mean      150.094549          2985.879867  90903.143493   \n",
      "std       345.861583          1555.857778   6255.795004   \n",
      "min         0.000000           596.000000  76029.000000   \n",
      "25%         5.000000          1889.000000  83306.500000   \n",
      "50%        29.000000          2967.000000  94380.000000   \n",
      "75%       126.500000          3685.000000  95313.000000   \n",
      "max      3393.000000          7361.000000  96553.000000   \n",
      "\n",
      "       pct_of_all_candidate_clips  \n",
      "count                  899.000000  \n",
      "mean                     0.049641  \n",
      "std                      0.096746  \n",
      "min                      0.000000  \n",
      "25%                      0.001979  \n",
      "50%                      0.009936  \n",
      "75%                      0.044759  \n",
      "max                      0.642158  \n"
     ]
    }
   ],
   "source": [
    "#Show the summary stats of the cable dataset\n",
    "summary_stats(df_cable)"
   ]
  },
  {
   "cell_type": "markdown",
   "metadata": {},
   "source": [
    "- All data types appeared to have been read in correctly\n",
    "- All numeric features except 'total_clips' appeared to be right skewed"
   ]
  },
  {
   "cell_type": "code",
   "execution_count": 9,
   "metadata": {},
   "outputs": [
    {
     "name": "stdout",
     "output_type": "stream",
     "text": [
      "<class 'pandas.core.frame.DataFrame'>\n",
      "RangeIndex: 899 entries, 0 to 898\n",
      "Data columns (total 6 columns):\n",
      "date                            899 non-null object\n",
      "name                            899 non-null object\n",
      "matched_stories                 899 non-null float64\n",
      "all_candidate_stories           899 non-null int64\n",
      "pct_of_all_candidate_stories    899 non-null float64\n",
      "query                           899 non-null object\n",
      "dtypes: float64(2), int64(1), object(3)\n",
      "memory usage: 42.3+ KB\n",
      "None \n",
      "\n",
      "       matched_stories  all_candidate_stories  pct_of_all_candidate_stories\n",
      "count       899.000000             899.000000                    899.000000\n",
      "mean        175.845384            1642.144605                      0.103190\n",
      "std         225.871792             532.266216                      0.118649\n",
      "min           0.000000             787.000000                      0.000000\n",
      "25%          34.000000            1399.000000                      0.021673\n",
      "50%          80.000000            1572.000000                      0.052595\n",
      "75%         237.000000            1855.000000                      0.141952\n",
      "max        1575.000000            3537.000000                      0.560356\n"
     ]
    }
   ],
   "source": [
    "#Show the summary stats of the internet dataset\n",
    "summary_stats(df_internet)"
   ]
  },
  {
   "cell_type": "markdown",
   "metadata": {},
   "source": [
    "- Data types appeared to be correct\n",
    "- All numeric features showed a right skew similar to the cable dataset"
   ]
  },
  {
   "cell_type": "markdown",
   "metadata": {},
   "source": [
    "### Section II: Clean up datasets"
   ]
  },
  {
   "cell_type": "code",
   "execution_count": 10,
   "metadata": {},
   "outputs": [],
   "source": [
    "#Drop query and total_clips features\n",
    "df_cable_2 = df_cable.drop(['total_clips', 'query'], axis=1)\n",
    "df_internet_2 = df_internet.drop('query', axis=1)"
   ]
  },
  {
   "cell_type": "code",
   "execution_count": 11,
   "metadata": {},
   "outputs": [],
   "source": [
    "def format_dates(df, feat='date'):\n",
    "    '''This function formats a provided date feature within a dataframe to date dtype'''\n",
    "    df[feat] = pd.to_datetime(df[feat])\n",
    "    df[feat] = df[feat].dt.date\n",
    "    return df"
   ]
  },
  {
   "cell_type": "code",
   "execution_count": 12,
   "metadata": {},
   "outputs": [],
   "source": [
    "#Format date dtype for both datasets\n",
    "df_cable_3 = format_dates(df_cable_2)\n",
    "df_internet_3 = format_dates(df_internet_2)"
   ]
  },
  {
   "cell_type": "markdown",
   "metadata": {},
   "source": [
    "### Section III: Find the most/least covered candidates"
   ]
  },
  {
   "cell_type": "code",
   "execution_count": 13,
   "metadata": {},
   "outputs": [],
   "source": [
    "def pivot_data(df, vals, idx=['name'], func=np.sum):\n",
    "    '''\n",
    "    This function creates a pivot table to aggregate data in a provided dataframe\n",
    "    \n",
    "    Inputs:\n",
    "        df (dataframe): Dataframe to aggregate\n",
    "        vals (list): List of features to use as the values arg in the pivot_table method\n",
    "        idx (list): List of features to use as the index arg in the pivot_table method\n",
    "    \n",
    "    Output (dataframe): Aggregated dataframe\n",
    "    '''\n",
    "    return df.pivot_table(values=vals, index=idx, aggfunc=func)"
   ]
  },
  {
   "cell_type": "code",
   "execution_count": 14,
   "metadata": {},
   "outputs": [],
   "source": [
    "def show_agg_data(df, sort_feat='pct_of_coverage'):\n",
    "    '''\n",
    "    This function sorts the provided dataframe by the given feature\n",
    "    and prints the observations of the highest/lowest values\n",
    "    \n",
    "    Inputs:\n",
    "        df (dataframe): Dataframe to sort\n",
    "        sort_feat (str): Feature in input dataframe to sort by\n",
    "        \n",
    "    Output: None\n",
    "    '''\n",
    "    df_sorted = df.sort_values(sort_feat, ascending=False)\n",
    "    \n",
    "    print(df_sorted.iloc[:5])\n",
    "    print('\\n')\n",
    "    print(df_sorted.iloc[-5:])"
   ]
  },
  {
   "cell_type": "code",
   "execution_count": 15,
   "metadata": {},
   "outputs": [],
   "source": [
    "#Create aggregated dataframes\n",
    "df_cable_agg = pivot_data(df_cable_3, ['matched_clips', 'all_candidate_clips'])\n",
    "df_internet_agg = pivot_data(df_internet_3, ['matched_stories', 'all_candidate_stories'])"
   ]
  },
  {
   "cell_type": "code",
   "execution_count": 16,
   "metadata": {},
   "outputs": [],
   "source": [
    "#Create required features in both df's\n",
    "df_cable_agg['pct_of_coverage'] = df_cable_agg['matched_clips'] / df_cable_agg['all_candidate_clips']\n",
    "df_internet_agg['pct_of_coverage'] = df_internet_agg['matched_stories'] / df_internet_agg['all_candidate_stories']"
   ]
  },
  {
   "cell_type": "code",
   "execution_count": 17,
   "metadata": {},
   "outputs": [
    {
     "name": "stdout",
     "output_type": "stream",
     "text": [
      "                  all_candidate_clips  matched_clips  pct_of_coverage\n",
      "name                                                                 \n",
      "Joe Biden                      110766          44743         0.403942\n",
      "Bernie Sanders                 110766          19187         0.173221\n",
      "Elizabeth Warren               110766          17421         0.157278\n",
      "Kamala Harris                  110766          14462         0.130564\n",
      "Beto O'Rourke                  110766           7813         0.070536\n",
      "\n",
      "\n",
      "                     all_candidate_clips  matched_clips  pct_of_coverage\n",
      "name                                                                    \n",
      "Marianne Williamson               110766            576         0.005200\n",
      "Michael Bennet                    110766            487         0.004397\n",
      "Seth Moulton                      101602            389         0.003829\n",
      "Mike Gravel                        94826             17         0.000179\n",
      "Joe Sestak                        110766              7         0.000063\n"
     ]
    }
   ],
   "source": [
    "#Show the top/bottom candidates for the cable dataset\n",
    "show_agg_data(df_cable_agg)"
   ]
  },
  {
   "cell_type": "markdown",
   "metadata": {},
   "source": [
    "- Joe Biden showed significantly more coverage on cable networks when compared to the remaining top five candidates\n",
    "- All candidates in the bottom five showed very low coverage"
   ]
  },
  {
   "cell_type": "code",
   "execution_count": 18,
   "metadata": {},
   "outputs": [
    {
     "name": "stdout",
     "output_type": "stream",
     "text": [
      "                  all_candidate_stories  matched_stories  pct_of_coverage\n",
      "name                                                                     \n",
      "Bernie Sanders                    60630          22092.0         0.364374\n",
      "Joe Biden                         60630          21055.0         0.347270\n",
      "Elizabeth Warren                  60630          20833.0         0.343609\n",
      "Kamala Harris                     60630          16502.0         0.272175\n",
      "Cory Booker                       60630          10518.0         0.173478\n",
      "\n",
      "\n",
      "               all_candidate_stories  matched_stories  pct_of_coverage\n",
      "name                                                                  \n",
      "Steve Bullock                  60630           1795.0         0.029606\n",
      "Seth Moulton                   56510           1335.0         0.023624\n",
      "Tom Steyer                     60630           1373.0         0.022646\n",
      "Mike Gravel                    53553            348.0         0.006498\n",
      "Joe Sestak                     60630            246.0         0.004057\n"
     ]
    }
   ],
   "source": [
    "#Show the top/bottom candidates for the internet dataset\n",
    "show_agg_data(df_internet_agg)"
   ]
  },
  {
   "cell_type": "markdown",
   "metadata": {},
   "source": [
    "- There was a smaller range in online coverage between the top five candidates when compared to top candidates for cable coverage\n",
    "- The candidates in the top five were the same with the exception of Cory Booker replacing Beto O'Rourke in fifth\n",
    "- The bottom candidates showed similarly negligible online coverage compared to cable"
   ]
  },
  {
   "cell_type": "markdown",
   "metadata": {},
   "source": [
    "### Section IV: Look for trends in coverage of the top candidates"
   ]
  },
  {
   "cell_type": "code",
   "execution_count": 19,
   "metadata": {},
   "outputs": [],
   "source": [
    "def subset_df(df, slice_feat, feat_vals):\n",
    "    '''\n",
    "    This function takes a dataframe input and returns a copy of a subset based on \n",
    "    provided feature and feature values.\n",
    "    \n",
    "    Inputs:\n",
    "        df (dataframe): Dataframe to subset\n",
    "        slice_feat (str): Name of feature to create a subset on\n",
    "        feat_vals (list): List of feature observation values to subset the dataframe on\n",
    "    \n",
    "    Output (dataframe): Subsetted dataframe\n",
    "    '''\n",
    "    df_new = df.loc[df[slice_feat].isin(feat_vals), ].copy()\n",
    "    df_new.reset_index(inplace=True, drop=True)\n",
    "    return df_new"
   ]
  },
  {
   "cell_type": "code",
   "execution_count": 20,
   "metadata": {},
   "outputs": [],
   "source": [
    "#Store list of candidates in the top 5 of coverage for both news mediums\n",
    "top_candidates = ['Bernie Sanders', \"Beto O'Rourke\", 'Cory Booker', \n",
    "                  'Elizabeth Warren','Joe Biden', 'Kamala Harris']"
   ]
  },
  {
   "cell_type": "code",
   "execution_count": 21,
   "metadata": {},
   "outputs": [],
   "source": [
    "#Create new df's based on names in top_candidates\n",
    "df_cable_top = subset_df(df_cable_3, 'name', top_candidates)\n",
    "df_internet_top = subset_df(df_internet_3, 'name', top_candidates)"
   ]
  },
  {
   "cell_type": "code",
   "execution_count": 22,
   "metadata": {},
   "outputs": [],
   "source": [
    "def time_series(x, y, data, title, xlabel='Date', ylabel='Proportion of Candidate Coverage'):\n",
    "    '''\n",
    "    This function generates a line plot with the data provided.\n",
    "    \n",
    "    Inputs:\n",
    "        x (str): Feature in data to plot on x-axis\n",
    "        y (str): Feature in data to plot on y-axis\n",
    "        data (dataframe): Pandas dataframe containing x and y to plot\n",
    "        title (str): Title of chart\n",
    "        xlabel (str): Label of x-axis\n",
    "        ylabel (str): Label of y-axis\n",
    "        \n",
    "    Output: None\n",
    "    '''\n",
    "    ts_plot = sns.lineplot(x, y, hue='name', data=data)\n",
    "\n",
    "    handles, labels = ts_plot.get_legend_handles_labels()\n",
    "    ts_plot.legend(handles=handles[1:], labels=labels[1:], title='Candidate', bbox_to_anchor=(1, 1))\n",
    "\n",
    "    ts_plot.set_title(title)\n",
    "    ts_plot.set_xlabel(xlabel)\n",
    "    ts_plot.tick_params(axis='x', rotation=45)\n",
    "    ts_plot.set_ylabel(ylabel)\n",
    "    plt.show()"
   ]
  },
  {
   "cell_type": "code",
   "execution_count": 23,
   "metadata": {},
   "outputs": [
    {
     "name": "stderr",
     "output_type": "stream",
     "text": [
      "/Users/jacoblangley/anaconda3/lib/python3.6/site-packages/pandas/plotting/_matplotlib/converter.py:103: FutureWarning: Using an implicitly registered datetime converter for a matplotlib plotting method. The converter was registered by pandas on import. Future versions of pandas will require you to explicitly register matplotlib converters.\n",
      "\n",
      "To register the converters:\n",
      "\t>>> from pandas.plotting import register_matplotlib_converters\n",
      "\t>>> register_matplotlib_converters()\n",
      "  warnings.warn(msg, FutureWarning)\n"
     ]
    },
    {
     "data": {
      "image/png": "[encoded data removed]",
      "text/plain": [
       "<Figure size 432x288 with 1 Axes>"
      ]
     },
     "metadata": {
      "needs_background": "light"
     },
     "output_type": "display_data"
    }
   ],
   "source": [
    "#Generate Cable covereage time series plot\n",
    "time_series('date', 'pct_of_all_candidate_clips', df_cable_top, 'Candidate Coverage - Cable')"
   ]
  },
  {
   "cell_type": "markdown",
   "metadata": {},
   "source": [
    "- Joe Biden consistently maintained a higher level of coverage than other candidates from mid-April through September\n",
    "- The cable coverage on Elizabeth Warren trended steadily upward from May through September\n",
    "- Coverage of Kamala Harris peaked in July but steadily dropped through September"
   ]
  },
  {
   "cell_type": "code",
   "execution_count": 24,
   "metadata": {},
   "outputs": [
    {
     "data": {
      "image/png": "[encoded data removed]",
      "text/plain": [
       "<Figure size 432x288 with 1 Axes>"
      ]
     },
     "metadata": {
      "needs_background": "light"
     },
     "output_type": "display_data"
    }
   ],
   "source": [
    "#Generate Internet covereage time series plot\n",
    "time_series('date', 'pct_of_all_candidate_stories', df_internet_top, 'Candidate Coverage - Internet')"
   ]
  },
  {
   "cell_type": "markdown",
   "metadata": {},
   "source": [
    "- There were no significant trends in online coverage for any candidates"
   ]
  },
  {
   "cell_type": "markdown",
   "metadata": {},
   "source": [
    "### Section V: Look for statistically significant differences in coverage by news medium"
   ]
  },
  {
   "cell_type": "markdown",
   "metadata": {},
   "source": [
    "#### Show median coverage for top candidates"
   ]
  },
  {
   "cell_type": "code",
   "execution_count": 25,
   "metadata": {},
   "outputs": [],
   "source": [
    "#Create df containing the overall median cable coverage for each candidate\n",
    "df_cable_top_agg = pivot_data(df_cable_top, 'pct_of_all_candidate_clips', func=np.median)"
   ]
  },
  {
   "cell_type": "code",
   "execution_count": 26,
   "metadata": {},
   "outputs": [],
   "source": [
    "#Create df containing the overall median internet coverage for each candidate\n",
    "df_internet_top_agg = pivot_data(df_internet_top, 'pct_of_all_candidate_stories', func=np.median)"
   ]
  },
  {
   "cell_type": "code",
   "execution_count": 27,
   "metadata": {},
   "outputs": [],
   "source": [
    "#Combine, format, and display data\n",
    "df_top_agg = df_cable_top_agg.merge(df_internet_top_agg, how='left', on='name')\n",
    "df_top_agg_2 = df_top_agg.reset_index()\n",
    "df_top_agg_2.columns = ['Candidate', 'Portion of Cable Coverage', 'Portion of Internet Coverage']\n",
    "df_top_agg_3 = df_top_agg_2.set_index('Candidate')"
   ]
  },
  {
   "cell_type": "code",
   "execution_count": 28,
   "metadata": {},
   "outputs": [
    {
     "data": {
      "text/html": [
       "<div>\n",
       "<style scoped>\n",
       "    .dataframe tbody tr th:only-of-type {\n",
       "        vertical-align: middle;\n",
       "    }\n",
       "\n",
       "    .dataframe tbody tr th {\n",
       "        vertical-align: top;\n",
       "    }\n",
       "\n",
       "    .dataframe thead th {\n",
       "        text-align: right;\n",
       "    }\n",
       "</style>\n",
       "<table border=\"1\" class=\"dataframe\">\n",
       "  <thead>\n",
       "    <tr style=\"text-align: right;\">\n",
       "      <th></th>\n",
       "      <th>Portion of Cable Coverage</th>\n",
       "      <th>Portion of Internet Coverage</th>\n",
       "    </tr>\n",
       "    <tr>\n",
       "      <th>Candidate</th>\n",
       "      <th></th>\n",
       "      <th></th>\n",
       "    </tr>\n",
       "  </thead>\n",
       "  <tbody>\n",
       "    <tr>\n",
       "      <th>Bernie Sanders</th>\n",
       "      <td>0.152807</td>\n",
       "      <td>0.344044</td>\n",
       "    </tr>\n",
       "    <tr>\n",
       "      <th>Beto O'Rourke</th>\n",
       "      <td>0.056306</td>\n",
       "      <td>0.060763</td>\n",
       "    </tr>\n",
       "    <tr>\n",
       "      <th>Cory Booker</th>\n",
       "      <td>0.050182</td>\n",
       "      <td>0.160468</td>\n",
       "    </tr>\n",
       "    <tr>\n",
       "      <th>Elizabeth Warren</th>\n",
       "      <td>0.145135</td>\n",
       "      <td>0.339443</td>\n",
       "    </tr>\n",
       "    <tr>\n",
       "      <th>Joe Biden</th>\n",
       "      <td>0.381314</td>\n",
       "      <td>0.355304</td>\n",
       "    </tr>\n",
       "    <tr>\n",
       "      <th>Kamala Harris</th>\n",
       "      <td>0.097730</td>\n",
       "      <td>0.245547</td>\n",
       "    </tr>\n",
       "  </tbody>\n",
       "</table>\n",
       "</div>"
      ],
      "text/plain": [
       "                  Portion of Cable Coverage  Portion of Internet Coverage\n",
       "Candidate                                                                \n",
       "Bernie Sanders                     0.152807                      0.344044\n",
       "Beto O'Rourke                      0.056306                      0.060763\n",
       "Cory Booker                        0.050182                      0.160468\n",
       "Elizabeth Warren                   0.145135                      0.339443\n",
       "Joe Biden                          0.381314                      0.355304\n",
       "Kamala Harris                      0.097730                      0.245547"
      ]
     },
     "execution_count": 28,
     "metadata": {},
     "output_type": "execute_result"
    }
   ],
   "source": [
    "#Show data\n",
    "df_top_agg_3"
   ]
  },
  {
   "cell_type": "markdown",
   "metadata": {},
   "source": [
    "- From a high level, it appeared that all candidates except Beto O'Rourke and Joe Biden showed large differences in coverage between cable and the internet"
   ]
  },
  {
   "cell_type": "markdown",
   "metadata": {},
   "source": [
    "#### Look at the data distribution to determine which statistical test is appropriate"
   ]
  },
  {
   "cell_type": "code",
   "execution_count": 29,
   "metadata": {},
   "outputs": [],
   "source": [
    "def plot_dist(df, plot_feat, split_feat, split_vals, title, rows=2, cols=3):\n",
    "    '''\n",
    "    This function generates histograms of a specified feature, split into \n",
    "    subplots by a specified feature/values\n",
    "    \n",
    "    Inputs:\n",
    "        df (dataframe): Dataframe containing data to plot\n",
    "        plot_feat (str): Name of feature within df to plot\n",
    "        split_feat (str): Name of feature to use to split data into subplots\n",
    "        split_vals (list): List of values contained in split_feat\n",
    "        title (str): Overall chart title\n",
    "        rows(int): Number of rows of subplots\n",
    "        cols (int): Number of columns of subplots\n",
    "        \n",
    "    Output: None\n",
    "    '''\n",
    "    fig, axs = plt.subplots(nrows=rows, ncols=cols, sharex=True)\n",
    "    axs = axs.flat\n",
    "    for ax, split_val in zip(axs, split_vals):\n",
    "        ax.hist(df.loc[df_cable_top[split_feat]==split_val, plot_feat])\n",
    "        ax.set_title(split_val)\n",
    "    fig.tight_layout()\n",
    "    fig.suptitle(title, y=1.1)\n",
    "    plt.show()"
   ]
  },
  {
   "cell_type": "code",
   "execution_count": 30,
   "metadata": {},
   "outputs": [
    {
     "data": {
      "image/png": "[encoded data removed]",
      "text/plain": [
       "<Figure size 432x288 with 6 Axes>"
      ]
     },
     "metadata": {
      "needs_background": "light"
     },
     "output_type": "display_data"
    }
   ],
   "source": [
    "#Generate histograms of portions of total candidate coverege by candidate for cable news\n",
    "plot_dist(df_cable_top, 'pct_of_all_candidate_clips', 'name', top_candidates, 'Cable Coverage Distributions')"
   ]
  },
  {
   "cell_type": "markdown",
   "metadata": {},
   "source": [
    "- All candidates except Joe Biden showed a right skewed distribution in cable coverage\n",
    "- None of the candidates showed coverage distributions that were obviously normal"
   ]
  },
  {
   "cell_type": "code",
   "execution_count": 31,
   "metadata": {},
   "outputs": [
    {
     "data": {
      "image/png": "[encoded data removed]",
      "text/plain": [
       "<Figure size 432x288 with 6 Axes>"
      ]
     },
     "metadata": {
      "needs_background": "light"
     },
     "output_type": "display_data"
    }
   ],
   "source": [
    "#Generate histograms of portions of total candidate coverege by candidate for online news\n",
    "plot_dist(df_internet_top, 'pct_of_all_candidate_stories', 'name', top_candidates, 'Internet Coverage Distributions')"
   ]
  },
  {
   "cell_type": "markdown",
   "metadata": {},
   "source": [
    "- Internet coverage of some candidates was approximately normal while others shows bi-modal or tri-modal behavior.\n",
    "- A normality test will be needed to choose the appropriate statistical test"
   ]
  },
  {
   "cell_type": "markdown",
   "metadata": {},
   "source": [
    "#### Perform normality test"
   ]
  },
  {
   "cell_type": "code",
   "execution_count": 32,
   "metadata": {},
   "outputs": [],
   "source": [
    "#Populate a dict with Shapoiro-Wilks test results\n",
    "dfs = [df_cable_top, df_internet_top]\n",
    "feats = ['pct_of_all_candidate_clips', 'pct_of_all_candidate_stories']\n",
    "medium = ['Cable', 'Internet']\n",
    "\n",
    "sw_test_results = {}\n",
    "\n",
    "for df, feat, med in zip(dfs, feats, medium):\n",
    "    for candidate in top_candidates:\n",
    "        test = scipy.stats.shapiro(df.loc[df['name']==candidate, feat])\n",
    "        id_ = med + ', ' + candidate\n",
    "        sw_test_results[id_] = test "
   ]
  },
  {
   "cell_type": "code",
   "execution_count": 33,
   "metadata": {},
   "outputs": [
    {
     "name": "stdout",
     "output_type": "stream",
     "text": [
      "Cable, Joe Biden\n",
      "Internet, Bernie Sanders\n",
      "Internet, Cory Booker\n"
     ]
    }
   ],
   "source": [
    "#Show medium/candidate pairs where the data is normally distributed\n",
    "##(where the p-value is greater than the threshold)\n",
    "threshold = 0.05\n",
    "for i, j in sw_test_results.items():\n",
    "    if j[1] > threshold:\n",
    "        print(i)"
   ]
  },
  {
   "cell_type": "markdown",
   "metadata": {},
   "source": [
    "- A minority of the medium/candidate datasets were normally distributed\n",
    "- A non-parametric statistical test was needed to evaluate the data"
   ]
  },
  {
   "cell_type": "markdown",
   "metadata": {},
   "source": [
    "#### Compare coverage of each candidate between news mediums\n",
    "- Null hypothesis: There was no difference in coverage of candidates between cable and online media"
   ]
  },
  {
   "cell_type": "code",
   "execution_count": 34,
   "metadata": {},
   "outputs": [],
   "source": [
    "#Perform Mood's Median Test to determine if there was a statistically significant\n",
    "##difference in the cable and online coverage of each candidate\n",
    "med_test_results = []\n",
    "\n",
    "for candidate in top_candidates:\n",
    "    cable_data = df_cable_top.loc[df_cable_top['name']==candidate, 'pct_of_all_candidate_clips']\n",
    "    internet_data = df_internet_top.loc[df_internet_top['name']==candidate, 'pct_of_all_candidate_stories']\n",
    "    test = scipy.stats.median_test(cable_data, internet_data)\n",
    "    med_test_results.append((candidate, test))"
   ]
  },
  {
   "cell_type": "code",
   "execution_count": 35,
   "metadata": {},
   "outputs": [
    {
     "name": "stdout",
     "output_type": "stream",
     "text": [
      "('Bernie Sanders', (36.54054054054054, 1.4952382971995519e-09, 0.2933038828179493, array([[ 5, 32],\n",
      "       [32,  5]])))\n",
      "('Cory Booker', (42.37837837837838, 7.521698652743146e-11, 0.1202503647230458, array([[ 4, 33],\n",
      "       [33,  4]])))\n",
      "('Elizabeth Warren', (48.648648648648646, 3.061792058783724e-12, 0.28524799268865686, array([[ 3, 34],\n",
      "       [34,  3]])))\n",
      "('Kamala Harris', (31.135135135135137, 2.4067536017440837e-08, 0.19914414004560926, array([[ 6, 31],\n",
      "       [31,  6]])))\n"
     ]
    }
   ],
   "source": [
    "#Show candidates who have significantly different coverage\n",
    "for i in med_test_results:\n",
    "    if i[1][1] < threshold:\n",
    "        print(i)"
   ]
  },
  {
   "cell_type": "markdown",
   "metadata": {},
   "source": [
    "- The null hypothesis was rejected for four of the top six candidates\n",
    "- The majority of the top candidates did show a statistically significant difference in media coverage between cable and the internet"
   ]
  },
  {
   "cell_type": "markdown",
   "metadata": {},
   "source": [
    "### Summary\n",
    "An analysis investigating the cable and internet media coverage of 2020 democratic presidential candidates was performed to answer several questions.\n",
    "- The most and least covered candidates from December 2018 to September 2019 were determined\n",
    "- Of the most covered candidates, time series trends were highlighted and discussed\n",
    "- Statistically significant differences between cable and internet coverage of candidates was discussed\n",
    "- Overall, the hypothesis that Joe Biden was the most covered candidate held for cable news but was not supported by the internet coverage data\n",
    "- The hypothesis that there were no differences in coverage between cable and internet media was not supported by the data"
   ]
  },
  {
   "cell_type": "code",
   "execution_count": null,
   "metadata": {},
   "outputs": [],
   "source": []
  }
 ],
 "metadata": {
  "kernelspec": {
   "display_name": "Python 3",
   "language": "python",
   "name": "python3"
  },
  "language_info": {
   "codemirror_mode": {
    "name": "ipython",
    "version": 3
   },
   "file_extension": ".py",
   "mimetype": "text/x-python",
   "name": "python",
   "nbconvert_exporter": "python",
   "pygments_lexer": "ipython3",
   "version": "3.6.9"
  }
 },
 "nbformat": 4,
 "nbformat_minor": 2
}
