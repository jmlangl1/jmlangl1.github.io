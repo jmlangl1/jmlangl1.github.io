{
 "cells": [
  {
   "cell_type": "markdown",
   "metadata": {},
   "source": [
    "## Energy Generation Analysis\n",
    "- This script analyzes energy generation and fuel stock data published by the U.S Energy Information Administration\n",
    "- The data used includes energy generation data from across the country\n",
    "- Also included are stock levels of fuels used, including oil, coal, petcoke, and boiler fuels\n",
    "- Data Source: https://www.eia.gov/electricity/data/eia923/\n",
    "\n",
    "### Hypothesis\n",
    "- Energy generation will be inversely proportional to fuel stock. Therefore, if energy generation in a given period of time increases, the respective stock of fuel will decrease.\n",
    "\n",
    "### Observations\n",
    "- The stock of each fuel type showed the same right-tailed distribution when aggregated country wide. Indicating that a small number of power plants maintain a much higher stock of fuel than other in the country. \n",
    "- The same ditribution held true for power generation. A small number of plants form an outlier by generating significantly more energy than those in the rest of the country.\n",
    "- Power generation from all fuel types except petcoke has declined each year from 2008 to 2017\n",
    "- No fuel stock showed a correlation to generation except boiler fuel\n",
    "\n",
    "### Conclusions\n",
    "- Generally, the hypothesis that energy generation was inversely proportional to fuel stock was not supported. \n",
    "- With the exception of petcoke, all fuel types showed no relationship between stock and generation."
   ]
  },
  {
   "cell_type": "markdown",
   "metadata": {},
   "source": [
    "### I. Import Packages & Data"
   ]
  },
  {
   "cell_type": "code",
   "execution_count": 1,
   "metadata": {},
   "outputs": [],
   "source": [
    "#Import packages\n",
    "import os\n",
    "import numpy as np\n",
    "import scipy.stats\n",
    "import pandas as pd\n",
    "import datetime as dt\n",
    "import re\n",
    "import copy\n",
    "from calendar import month_name\n",
    "\n",
    "import matplotlib.pyplot as plt\n",
    "import seaborn as sns\n",
    "sns.set_context(rc={'lines.markeredgewidth': 0.1})"
   ]
  },
  {
   "cell_type": "code",
   "execution_count": 2,
   "metadata": {},
   "outputs": [],
   "source": [
    "#View files in current working directory\n",
    "path = os.getcwd() + '/' 'Raw_Data'\n",
    "files = os.listdir(path)\n",
    "\n",
    "#Create a list of all excel files\n",
    "files_ = [i for i in files if i[-4:]=='xlsx' or i[-3:]=='xls']"
   ]
  },
  {
   "cell_type": "markdown",
   "metadata": {},
   "source": [
    "#### Verify the sheets in each file match"
   ]
  },
  {
   "cell_type": "code",
   "execution_count": 3,
   "metadata": {},
   "outputs": [],
   "source": [
    "#Store list of sheets to load into dataframes for analysis\n",
    "keep_sheets = ['Page 2 Oil Stocks Data', 'Page 2 Coal Stocks Data', 'Page 2 Petcoke Stocks Data', \\\n",
    "               'Page 3 Boiler Fuel Data', 'Page 4 Generator Data']"
   ]
  },
  {
   "cell_type": "code",
   "execution_count": 4,
   "metadata": {},
   "outputs": [],
   "source": [
    "#Define function to import data from excel\n",
    "def import_data(file, sheet_name, skiprows=0):\n",
    "    return pd.read_excel(file, sheet_name=sheet_name, skiprows=skiprows)"
   ]
  },
  {
   "cell_type": "code",
   "execution_count": 5,
   "metadata": {},
   "outputs": [],
   "source": [
    "#Populate dictionary with data from all required sheets of each file\n",
    "data = {}\n",
    "for sheet in keep_sheets:\n",
    "    data[sheet] = {}\n",
    "\n",
    "for sheet, dict_ in data.items():\n",
    "    for file in files_:\n",
    "        filepath = path + '/' + file\n",
    "        end_file_idx = file.rfind('.')\n",
    "        dict_[file[:end_file_idx]] = import_data(filepath, sheet)"
   ]
  },
  {
   "cell_type": "markdown",
   "metadata": {},
   "source": [
    "### II. Data Cleaning"
   ]
  },
  {
   "cell_type": "markdown",
   "metadata": {},
   "source": [
    "#### Remove any remaining blank rows at the top of the dataframes\n",
    "- There is inconsistent formatting between Excel files/sheets \n",
    "- Some additional clean up is needed to remove any additional headers, notes, etc that are not related to the data"
   ]
  },
  {
   "cell_type": "code",
   "execution_count": 6,
   "metadata": {},
   "outputs": [],
   "source": [
    "def remove_blank_rows(df, n_rows=15):\n",
    "    '''\n",
    "    This function checks the first n_rows rows of a dataframe and removes any rows\n",
    "    with blanks in the first four columns (ID columns)\n",
    "    \n",
    "    Input\n",
    "        df (dataframe): Dataframe to edit\n",
    "        n_rows (int): Number of rows to check\n",
    "        \n",
    "    Output(df): pandas dataframe (w/ empty rows removed)\n",
    "    '''\n",
    "    #Create dummy 'drop' column to mark cols to drop\n",
    "    df['drop'] = False\n",
    "\n",
    "    #Check the first n_rows rows for blanks in all ID cols (first four) and drop the row if found\n",
    "    for i in range(n_rows):\n",
    "        if any(df.iloc[i, :2].isnull()):\n",
    "            df.loc[i, 'drop'] = True\n",
    "    df_2 = df.loc[df['drop'] != True, df.columns != 'drop'].copy()\n",
    "    df_2.reset_index(drop=True, inplace=True)\n",
    "\n",
    "    #Set new columns\n",
    "    df_2.columns = df_2.loc[0, ]\n",
    "\n",
    "    #Drop first row (no longer needed) and reset index\n",
    "    df_2.drop(0, inplace=True)\n",
    "    df_2.reset_index(drop=True, inplace=True)\n",
    "\n",
    "    return df_2"
   ]
  },
  {
   "cell_type": "code",
   "execution_count": 7,
   "metadata": {},
   "outputs": [],
   "source": [
    "#Apply remove_blank_rows func to all df's stored in data dict\n",
    "##Create a new copy of the data dict to retain raw data\n",
    "data_2 = copy.deepcopy(data)\n",
    "\n",
    "for sheet, d in data_2.items():\n",
    "    for file, df in d.items():\n",
    "        data_2[sheet][file] = remove_blank_rows(df)"
   ]
  },
  {
   "cell_type": "markdown",
   "metadata": {},
   "source": [
    "#### Format col names to match between df's from the same Excel sheet\n",
    "- Validate that column names match before concatenating dataframes"
   ]
  },
  {
   "cell_type": "code",
   "execution_count": 8,
   "metadata": {},
   "outputs": [],
   "source": [
    "def format_col_names(col_idx):\n",
    "    '''\n",
    "    This function edits each column name in a list of dataframe columns\n",
    "    to standardize formatting across all dataframes. Will only \n",
    "    operate on strings. \n",
    "    \n",
    "    Input(index): Raw column index\n",
    "    Output(list): Formatted column list\n",
    "    '''\n",
    "    col_list = list(col_idx).copy()\n",
    "    for i in range(len(col_list)):\n",
    "        if type(col_list[i]) is str:\n",
    "            #Replace spaces with underscore\n",
    "            col_list[i] = re.sub(' ', '_', col_list[i])\n",
    "\n",
    "            #Remove all non-alphanumeric characters\n",
    "            col_list[i] = re.sub('[\\W]+', '', col_list[i])\n",
    "\n",
    "            #Replace any double underscores with single underscore\n",
    "            col_list[i] = re.sub('__', '_', col_list[i])\n",
    "\n",
    "            #Change all characters to lowercase\n",
    "            col_list[i] = col_list[i].lower()\n",
    "    \n",
    "    return col_list"
   ]
  },
  {
   "cell_type": "code",
   "execution_count": 9,
   "metadata": {},
   "outputs": [],
   "source": [
    "#Format column names of all df's\n",
    "for sheet, d in data_2.items():\n",
    "    for file, df in d.items():\n",
    "        df.columns = format_col_names(df.columns)"
   ]
  },
  {
   "cell_type": "markdown",
   "metadata": {},
   "source": [
    "#### Identify inconsistencies in  df column names & number of columns"
   ]
  },
  {
   "cell_type": "code",
   "execution_count": 10,
   "metadata": {},
   "outputs": [],
   "source": [
    "#Identify df's with column counts that don't match the rest\n",
    "for sheet, d in data_2.items():\n",
    "    col_cnt = []\n",
    "    for file, df in d.items():\n",
    "        col_cnt.append(len(df.columns))\n",
    "    \n",
    "    actual_col_cnt = scipy.stats.mode(col_cnt)\n",
    "    for i in range(len(col_cnt)):\n",
    "        if col_cnt[i] != actual_col_cnt[0]:\n",
    "            print((sheet, actual_col_cnt[0], col_cnt[i]))"
   ]
  },
  {
   "cell_type": "markdown",
   "metadata": {},
   "source": [
    "- All dataframes within each sheet have the same number of columns"
   ]
  },
  {
   "cell_type": "markdown",
   "metadata": {},
   "source": [
    "#### Standardize column names across all df's within each sheet"
   ]
  },
  {
   "cell_type": "code",
   "execution_count": 11,
   "metadata": {},
   "outputs": [],
   "source": [
    "#Confirm that all df's within each sheet have the same number of columns\n",
    "for sheet in keep_sheets:\n",
    "    num_cols = data_2[sheet]['2008'].shape[1]\n",
    "    for file in files_:\n",
    "        end_file_idx = file.rfind('.')\n",
    "        if num_cols != data_2[sheet][file[:end_file_idx]].shape[1]:\n",
    "            print(sheet, file, num_cols, data_2[sheet][file[:end_file_idx]].shape[1])"
   ]
  },
  {
   "cell_type": "code",
   "execution_count": 12,
   "metadata": {},
   "outputs": [],
   "source": [
    "#Set all column names within each sheet to match\n",
    "##Set columns in each dataframe equal to the columns of the first df (2008 file)\n",
    "for sheet in keep_sheets:\n",
    "    col_list = data_2[sheet]['2008'].columns\n",
    "    for file in files_:\n",
    "        data_2[sheet][file[:end_file_idx]].columns = col_list"
   ]
  },
  {
   "cell_type": "markdown",
   "metadata": {},
   "source": [
    "#### Concatenate all dataframes within each Excel sheet"
   ]
  },
  {
   "cell_type": "code",
   "execution_count": 13,
   "metadata": {},
   "outputs": [],
   "source": [
    "#Create a new dictionary to store the combined datasets\n",
    "combined_data = {}\n",
    "\n",
    "for sheet in keep_sheets:\n",
    "    combined_data[sheet] = pd.concat(data_2[sheet])"
   ]
  },
  {
   "cell_type": "code",
   "execution_count": 14,
   "metadata": {},
   "outputs": [],
   "source": [
    "def format_index(df):\n",
    "    '''\n",
    "    This function resets the index of the provided dataframe, drops one of the previous indices,\n",
    "    and renames the other.\n",
    "    \n",
    "    Input(dataframe): Provided dataframe\n",
    "    Output(dataframe): New dataframe with formatted index\n",
    "    '''\n",
    "    df_2 = df.reset_index()\n",
    "    df_2.drop('level_1', axis=1, inplace=True)\n",
    "    df_2.rename({'level_0' : 'report_year'}, axis=1, inplace=True)\n",
    "    return df_2"
   ]
  },
  {
   "cell_type": "code",
   "execution_count": 15,
   "metadata": {},
   "outputs": [],
   "source": [
    "#Reformat all df's in the combined_data dict\n",
    "combined_data_2 = copy.deepcopy(combined_data)\n",
    "\n",
    "for sheet, df in combined_data_2.items():\n",
    "    combined_data_2[sheet] = format_index(df)"
   ]
  },
  {
   "cell_type": "code",
   "execution_count": 16,
   "metadata": {},
   "outputs": [],
   "source": [
    "#Limit Boiler Fuel data to only observations in short ton units\n",
    "combined_data_2['Page 3 Boiler Fuel Data'] = \\\n",
    "combined_data_2['Page 3 Boiler Fuel Data'].loc[combined_data_2['Page 3 Boiler Fuel Data']['physical_unit_label']=='short tons', ]\n",
    "\n",
    "#Reset index\n",
    "combined_data_2['Page 3 Boiler Fuel Data'].reset_index(inplace=True)"
   ]
  },
  {
   "cell_type": "markdown",
   "metadata": {},
   "source": [
    "### III. Create final dataset"
   ]
  },
  {
   "cell_type": "code",
   "execution_count": 17,
   "metadata": {},
   "outputs": [],
   "source": [
    "#Start with a copy of the 'Page 4 Generator Data' as the base dataframe\n",
    "df_gen = combined_data_2['Page 4 Generator Data'].copy()"
   ]
  },
  {
   "cell_type": "markdown",
   "metadata": {},
   "source": [
    "#### Pivot data to prepare it for joining"
   ]
  },
  {
   "cell_type": "code",
   "execution_count": 18,
   "metadata": {},
   "outputs": [],
   "source": [
    "#Define general lists of columns that will be used to prepare / join data\n",
    "id_cols = ['report_year', 'plant_id', 'operator_id']\n",
    "\n",
    "general_stocks_val_cols = ['quantityjanuary', 'quantityfebruary', 'quantitymarch', 'quantityapril',\n",
    "       'quantitymay', 'quantityjune', 'quantityjuly', 'quantityaugust',\n",
    "       'quantityseptember', 'quantityoctober', 'quantitynovember',\n",
    "       'quantitydecember']\n",
    "\n",
    "boiler_fuel_val_cols = ['quantity_of_fuel_consumed_january', 'quantity_of_fuel_consumed_february', \n",
    "                          'quantity_of_fuel_consumed_march', 'quantity_of_fuel_consumed_april', \n",
    "                          'quantity_of_fuel_consumed_may', 'quantity_of_fuel_consumed_june', \n",
    "                          'quantity_of_fuel_consumed_july', 'quantity_of_fuel_consumed_august', \n",
    "                          'quantity_of_fuel_consumed_september', 'quantity_of_fuel_consumed_october',\n",
    "                          'quantity_of_fuel_consumed_november', 'quantity_of_fuel_consumed_december']\n",
    "\n",
    "final_dataset_val_cols = ['net_generation_january', 'net_generation_february', 'net_generation_march', \n",
    "                          'net_generation_april', 'net_generation_may', 'net_generation_june', \n",
    "                          'net_generation_july', 'net_generation_august', 'net_generation_september', \n",
    "                          'net_generation_october', 'net_generation_november', 'net_generation_december']"
   ]
  },
  {
   "cell_type": "code",
   "execution_count": 19,
   "metadata": {},
   "outputs": [],
   "source": [
    "#Define func to pivot data and prepare for join with generation data\n",
    "def pivot_data(df, vals, idx):\n",
    "    '''\n",
    "    This function pivots a dataframe based on value and index columns provided.\n",
    "    After pivot, the columns are re-ordered to match the vals list and the\n",
    "    index is reset.\n",
    "    \n",
    "    Input:\n",
    "        df (dataframe): Dataframe to pivot\n",
    "        vals (list): List of columns to aggregate\n",
    "        idx (list): List of columns to use a keys in the pivot table\n",
    "\n",
    "    Output (dataframe): Pivoted / formatted dataframe\n",
    "    '''\n",
    "    df_new = df.pivot_table(values=vals, index=idx, aggfunc=np.sum).copy()\n",
    "    return df_new.reset_index()"
   ]
  },
  {
   "cell_type": "code",
   "execution_count": 20,
   "metadata": {},
   "outputs": [],
   "source": [
    "#Pivot all dataframes that will be joined with the energy generation data\n",
    "df_oil_stock = pivot_data(combined_data_2['Page 2 Oil Stocks Data'], general_stocks_val_cols, id_cols)\n",
    "df_coal_stock = pivot_data(combined_data_2['Page 2 Coal Stocks Data'], general_stocks_val_cols, id_cols)\n",
    "df_petcoke_stock = pivot_data(combined_data_2['Page 2 Petcoke Stocks Data'], \\\n",
    "                              general_stocks_val_cols, id_cols)\n",
    "df_boiler_fuel = pivot_data(combined_data_2['Page 3 Boiler Fuel Data'], boiler_fuel_val_cols, id_cols)"
   ]
  },
  {
   "cell_type": "code",
   "execution_count": 21,
   "metadata": {},
   "outputs": [],
   "source": [
    "#Pivot final data set\n",
    "df_gen_2 = pivot_data(df_gen, final_dataset_val_cols, id_cols)"
   ]
  },
  {
   "cell_type": "code",
   "execution_count": 22,
   "metadata": {},
   "outputs": [],
   "source": [
    "#Define func to finish preparing dataframes for join\n",
    "def prep_data(df, fuel_type, data_col_name='stock'):\n",
    "    '''\n",
    "    This function will finish preparing data for join by creating month\n",
    "    and data type columns. Columns will also be renamed/reordered. Creating \n",
    "    the month column will utilize the pre-defined 'find_month' function.\n",
    "    \n",
    "    Input:\n",
    "        df (dataframe): Input dataframe to be formatted\n",
    "        fuel_type (str): Value to populate fuel_type col\n",
    "        data_col_name (str): Name for new data column. Default value set to 'monthly_avg'\n",
    "    Output:\n",
    "        df_new (dataframe): Formatted dataframe\n",
    "    '''\n",
    "    #Extract month from level_3 feature, create data_type and fuel_type features\n",
    "    df['month'] = df['level_3'].apply(find_month)\n",
    "    df['fuel_type'] = fuel_type\n",
    "    \n",
    "    #Drop cols no longer needed\n",
    "    df_2 = df.drop('level_3', axis=1)\n",
    "    \n",
    "    #Move monthly_avg col to end of col list and rename\n",
    "    col_list = list(df_2.columns)\n",
    "    col_list.remove(0)\n",
    "    col_list.append(0)\n",
    "    df_3 = df_2[col_list].copy()\n",
    "    df_3.rename({0 : data_col_name}, axis=1, inplace=True)\n",
    "    \n",
    "    #Move month col\n",
    "    col_list = list(df_3.columns)\n",
    "    old_idx = col_list.index('month')\n",
    "    col_list.insert(1, col_list.pop(old_idx))\n",
    "    df_4 = df_3[col_list].copy()\n",
    "    \n",
    "    return df_4"
   ]
  },
  {
   "cell_type": "code",
   "execution_count": 23,
   "metadata": {},
   "outputs": [],
   "source": [
    "def find_month(x):\n",
    "    '''Use regex expression to extract month name from column values'''\n",
    "    pattern = '|'.join(month_name[1:])\n",
    "    return re.search(pattern, x, re.IGNORECASE).group(0)"
   ]
  },
  {
   "cell_type": "code",
   "execution_count": 24,
   "metadata": {},
   "outputs": [],
   "source": [
    "#Prepare supplemental datasets for join with generation data\n",
    "df_oil_stock_2 = prep_data(df_oil_stock, 'oil')\n",
    "df_coal_stock_2 = prep_data(df_coal_stock, 'coal')\n",
    "df_petcoke_stock_2 = prep_data(df_petcoke_stock, 'petcoke')\n",
    "df_boiler_fuel_2 = prep_data(df_boiler_fuel, 'boiler fuel')"
   ]
  },
  {
   "cell_type": "code",
   "execution_count": 25,
   "metadata": {},
   "outputs": [],
   "source": [
    "#Prepare generation data for join\n",
    "df_gen_3 = prep_data(df_gen_2, 'energy', 'generation')"
   ]
  },
  {
   "cell_type": "markdown",
   "metadata": {},
   "source": [
    "#### Concat stock/fuel df's prior to join with generation data"
   ]
  },
  {
   "cell_type": "code",
   "execution_count": 26,
   "metadata": {},
   "outputs": [],
   "source": [
    "df_stock_fuel = pd.concat([df_oil_stock_2, df_coal_stock_2, df_petcoke_stock_2, df_boiler_fuel_2], axis=0)"
   ]
  },
  {
   "cell_type": "markdown",
   "metadata": {},
   "source": [
    "#### Join the generation data with the stock / fuel data"
   ]
  },
  {
   "cell_type": "code",
   "execution_count": 27,
   "metadata": {},
   "outputs": [],
   "source": [
    "#Define function to join data\n",
    "def join_data(left_df, right_df, id_cols):\n",
    "    '''\n",
    "    This function performs a left join between two dataframes using\n",
    "    an input for the id cols.\n",
    "    \n",
    "    Input:\n",
    "        left_df (dataframe): Main dataframe to join data to\n",
    "        right_df (dataframe): Supplemental dataframe\n",
    "        id_cols (list): List of col names contained in both df's\n",
    "                        to perform join on\n",
    "    \n",
    "    Output (dataframe): New dataframe resulting from the join\n",
    "    '''\n",
    "    return left_df.merge(right_df, how='left', on=id_cols)"
   ]
  },
  {
   "cell_type": "code",
   "execution_count": 28,
   "metadata": {},
   "outputs": [],
   "source": [
    "#Define new id_cols list to include new cols created by data pivot\n",
    "id_cols_2 = ['report_year', 'month', 'plant_id', 'operator_id']"
   ]
  },
  {
   "cell_type": "code",
   "execution_count": 29,
   "metadata": {},
   "outputs": [],
   "source": [
    "#Add oil stock data to generation dataset\n",
    "df_final = join_data(df_gen_3, df_stock_fuel, id_cols_2)"
   ]
  },
  {
   "cell_type": "markdown",
   "metadata": {},
   "source": [
    "#### Clean up final data set to prepare for visualization"
   ]
  },
  {
   "cell_type": "code",
   "execution_count": 30,
   "metadata": {},
   "outputs": [],
   "source": [
    "#Drop cols that are no longer needed\n",
    "df_final_2 = df_final.drop('fuel_type_x', axis=1)\n",
    "\n",
    "#Rename columns as needed\n",
    "df_final_3 = df_final_2.rename({'fuel_type_y' : 'fuel_type'}, axis=1)"
   ]
  },
  {
   "cell_type": "code",
   "execution_count": 31,
   "metadata": {},
   "outputs": [],
   "source": [
    "#Convert object dtypes to numeric where needed\n",
    "for col in ['generation', 'stock']:\n",
    "    df_final_3[col] = pd.to_numeric(df_final_3[col], errors='coerce')"
   ]
  },
  {
   "cell_type": "markdown",
   "metadata": {},
   "source": [
    "### IV. Vizualize Data"
   ]
  },
  {
   "cell_type": "code",
   "execution_count": 32,
   "metadata": {},
   "outputs": [
    {
     "data": {
      "text/html": [
       "<div>\n",
       "<style scoped>\n",
       "    .dataframe tbody tr th:only-of-type {\n",
       "        vertical-align: middle;\n",
       "    }\n",
       "\n",
       "    .dataframe tbody tr th {\n",
       "        vertical-align: top;\n",
       "    }\n",
       "\n",
       "    .dataframe thead th {\n",
       "        text-align: right;\n",
       "    }\n",
       "</style>\n",
       "<table border=\"1\" class=\"dataframe\">\n",
       "  <thead>\n",
       "    <tr style=\"text-align: right;\">\n",
       "      <th></th>\n",
       "      <th>report_year</th>\n",
       "      <th>month</th>\n",
       "      <th>plant_id</th>\n",
       "      <th>operator_id</th>\n",
       "      <th>generation</th>\n",
       "      <th>fuel_type</th>\n",
       "      <th>stock</th>\n",
       "    </tr>\n",
       "  </thead>\n",
       "  <tbody>\n",
       "    <tr>\n",
       "      <th>0</th>\n",
       "      <td>2008</td>\n",
       "      <td>january</td>\n",
       "      <td>3</td>\n",
       "      <td>195</td>\n",
       "      <td>936513.0</td>\n",
       "      <td>boiler fuel</td>\n",
       "      <td>340778.0</td>\n",
       "    </tr>\n",
       "    <tr>\n",
       "      <th>1</th>\n",
       "      <td>2008</td>\n",
       "      <td>february</td>\n",
       "      <td>3</td>\n",
       "      <td>195</td>\n",
       "      <td>554264.0</td>\n",
       "      <td>boiler fuel</td>\n",
       "      <td>167669.0</td>\n",
       "    </tr>\n",
       "    <tr>\n",
       "      <th>2</th>\n",
       "      <td>2008</td>\n",
       "      <td>march</td>\n",
       "      <td>3</td>\n",
       "      <td>195</td>\n",
       "      <td>599258.0</td>\n",
       "      <td>boiler fuel</td>\n",
       "      <td>205825.0</td>\n",
       "    </tr>\n",
       "    <tr>\n",
       "      <th>3</th>\n",
       "      <td>2008</td>\n",
       "      <td>april</td>\n",
       "      <td>3</td>\n",
       "      <td>195</td>\n",
       "      <td>689965.0</td>\n",
       "      <td>boiler fuel</td>\n",
       "      <td>245074.0</td>\n",
       "    </tr>\n",
       "    <tr>\n",
       "      <th>4</th>\n",
       "      <td>2008</td>\n",
       "      <td>may</td>\n",
       "      <td>3</td>\n",
       "      <td>195</td>\n",
       "      <td>1009282.0</td>\n",
       "      <td>boiler fuel</td>\n",
       "      <td>417942.0</td>\n",
       "    </tr>\n",
       "  </tbody>\n",
       "</table>\n",
       "</div>"
      ],
      "text/plain": [
       "  report_year     month  plant_id operator_id  generation    fuel_type  \\\n",
       "0        2008   january         3         195    936513.0  boiler fuel   \n",
       "1        2008  february         3         195    554264.0  boiler fuel   \n",
       "2        2008     march         3         195    599258.0  boiler fuel   \n",
       "3        2008     april         3         195    689965.0  boiler fuel   \n",
       "4        2008       may         3         195   1009282.0  boiler fuel   \n",
       "\n",
       "      stock  \n",
       "0  340778.0  \n",
       "1  167669.0  \n",
       "2  205825.0  \n",
       "3  245074.0  \n",
       "4  417942.0  "
      ]
     },
     "execution_count": 32,
     "metadata": {},
     "output_type": "execute_result"
    }
   ],
   "source": [
    "df_final_3.head()"
   ]
  },
  {
   "cell_type": "markdown",
   "metadata": {},
   "source": [
    "#### Summary Statistics\n",
    "- Caclulate a range of summary statistics to get a high level view of the data"
   ]
  },
  {
   "cell_type": "code",
   "execution_count": 33,
   "metadata": {},
   "outputs": [
    {
     "name": "stdout",
     "output_type": "stream",
     "text": [
      "<class 'pandas.core.frame.DataFrame'>\n",
      "Int64Index: 282715 entries, 0 to 282714\n",
      "Data columns (total 7 columns):\n",
      "report_year    282715 non-null object\n",
      "month          282715 non-null object\n",
      "plant_id       282715 non-null int64\n",
      "operator_id    282715 non-null object\n",
      "generation     270369 non-null float64\n",
      "fuel_type      233973 non-null object\n",
      "stock          190049 non-null float64\n",
      "dtypes: float64(2), int64(1), object(4)\n",
      "memory usage: 17.3+ MB\n"
     ]
    }
   ],
   "source": [
    "df_final_3.info()"
   ]
  },
  {
   "cell_type": "code",
   "execution_count": 34,
   "metadata": {},
   "outputs": [],
   "source": [
    "def summary_stats(df):\n",
    "    '''This function will display summary statistics on the input dataframe'''\n",
    "    print(df.info())\n",
    "    print('\\n')\n",
    "    print(df.describe())"
   ]
  },
  {
   "cell_type": "code",
   "execution_count": 35,
   "metadata": {},
   "outputs": [
    {
     "name": "stdout",
     "output_type": "stream",
     "text": [
      "<class 'pandas.core.frame.DataFrame'>\n",
      "Int64Index: 282715 entries, 0 to 282714\n",
      "Data columns (total 7 columns):\n",
      "report_year    282715 non-null object\n",
      "month          282715 non-null object\n",
      "plant_id       282715 non-null int64\n",
      "operator_id    282715 non-null object\n",
      "generation     270369 non-null float64\n",
      "fuel_type      233973 non-null object\n",
      "stock          190049 non-null float64\n",
      "dtypes: float64(2), int64(1), object(4)\n",
      "memory usage: 17.3+ MB\n",
      "None\n",
      "\n",
      "\n",
      "            plant_id    generation         stock\n",
      "count  282715.000000  2.703690e+05  1.900490e+05\n",
      "mean    21262.171374  1.810663e+05  1.497804e+05\n",
      "std     23524.447676  3.020227e+05  2.931564e+05\n",
      "min         3.000000 -1.410140e+05  0.000000e+00\n",
      "25%      2408.000000  8.566000e+03  5.317000e+03\n",
      "50%      7210.000000  4.051900e+04  3.379100e+04\n",
      "75%     50807.000000  2.192340e+05  1.550580e+05\n",
      "max     61838.000000  2.267069e+06  4.327758e+06\n"
     ]
    }
   ],
   "source": [
    "summary_stats(df_final_3)"
   ]
  },
  {
   "cell_type": "markdown",
   "metadata": {},
   "source": [
    "#### Distribution Plots\n",
    "- Create violin plots of generation and stock by fuel type to determine the shape of the data distributions"
   ]
  },
  {
   "cell_type": "code",
   "execution_count": 36,
   "metadata": {},
   "outputs": [],
   "source": [
    "def plot_dist(df, feature, title, xlabel, sliced_by=None):\n",
    "    '''\n",
    "    This function will generate a violin plot of the provided \n",
    "    dataframe feature distribution.\n",
    "    \n",
    "    Input:\n",
    "        df (dataframe): Dataframe containing feature to display\n",
    "        feature (str): Name of feature within df to plot\n",
    "        title (str): Title of chart\n",
    "        xlabel (str): x-axis label\n",
    "        sliced_by (str or None): If value provided, slice the feature by the provided value\n",
    "    \n",
    "    Output: None\n",
    "    '''\n",
    "    if sliced_by:\n",
    "        fig = sns.violinplot(df.loc[df['fuel_type']==sliced_by, feature])\n",
    "    else:\n",
    "        fig = sns.violinplot(df[feature])\n",
    "    \n",
    "    fig.set_title(title)\n",
    "    fig.set_xlabel(xlabel)"
   ]
  },
  {
   "cell_type": "code",
   "execution_count": 37,
   "metadata": {},
   "outputs": [
    {
     "data": {
      "image/png": "[encoded data removed]",
      "text/plain": [
       "<Figure size 432x288 with 1 Axes>"
      ]
     },
     "metadata": {
      "needs_background": "light"
     },
     "output_type": "display_data"
    }
   ],
   "source": [
    "#Plot the distribution of the 'monthly_generation' feature\n",
    "dist_features_gen = {'df' : df_final_3, 'feature' : 'stock',\n",
    "                'title' : 'Generation Distribution', 'xlabel' : 'Generation (MWh)'}\n",
    "\n",
    "plot_dist(**dist_features_gen)"
   ]
  },
  {
   "cell_type": "code",
   "execution_count": 38,
   "metadata": {},
   "outputs": [
    {
     "data": {
      "image/png": "[encoded data removed]",
      "text/plain": [
       "<Figure size 432x288 with 1 Axes>"
      ]
     },
     "metadata": {
      "needs_background": "light"
     },
     "output_type": "display_data"
    }
   ],
   "source": [
    "#Plot the distribution of the oil stocks\n",
    "dist_features_oil = {'df' : df_final_3, 'feature' : 'stock',\n",
    "                'title' : 'Oil Stock Distribution', 'xlabel' : 'Oil Stock (barrels)',\n",
    "                'sliced_by' : 'oil'}\n",
    "\n",
    "plot_dist(**dist_features_oil)"
   ]
  },
  {
   "cell_type": "code",
   "execution_count": 39,
   "metadata": {},
   "outputs": [
    {
     "data": {
      "image/png": "[encoded data removed]",
      "text/plain": [
       "<Figure size 432x288 with 1 Axes>"
      ]
     },
     "metadata": {
      "needs_background": "light"
     },
     "output_type": "display_data"
    }
   ],
   "source": [
    "#Plot the distribution of the coal stocks\n",
    "dist_features_coal = {'df' : df_final_3, 'feature' : 'stock',\n",
    "                'title' : 'Coal Stock Distribution', 'xlabel' : 'Coal Stock (short tons)',\n",
    "                'sliced_by' : 'coal'}\n",
    "\n",
    "plot_dist(**dist_features_coal)"
   ]
  },
  {
   "cell_type": "code",
   "execution_count": 40,
   "metadata": {},
   "outputs": [
    {
     "data": {
      "image/png": "[encoded data removed]",
      "text/plain": [
       "<Figure size 432x288 with 1 Axes>"
      ]
     },
     "metadata": {
      "needs_background": "light"
     },
     "output_type": "display_data"
    }
   ],
   "source": [
    "#Plot the distribution of the petcoke stocks\n",
    "dist_features_petcoke = {'df' : df_final_3, 'feature' : 'stock',\n",
    "                'title' : 'Petcoke Stock Distribution', 'xlabel' : 'Petcoke Stock (short tons)',\n",
    "                'sliced_by' : 'petcoke'}\n",
    "\n",
    "plot_dist(**dist_features_petcoke)"
   ]
  },
  {
   "cell_type": "code",
   "execution_count": 41,
   "metadata": {},
   "outputs": [
    {
     "data": {
      "image/png": "[encoded data removed]",
      "text/plain": [
       "<Figure size 432x288 with 1 Axes>"
      ]
     },
     "metadata": {
      "needs_background": "light"
     },
     "output_type": "display_data"
    }
   ],
   "source": [
    "#Plot the distribution of the boiler fuel stocks\n",
    "dist_features_boiler = {'df' : df_final_3, 'feature' : 'stock',\n",
    "                'title' : 'Boiler Fuel Stock Distribution', 'xlabel' : 'Boiler Fuel Stock (short tons)',\n",
    "                'sliced_by' : 'boiler fuel'}\n",
    "\n",
    "plot_dist(**dist_features_boiler)"
   ]
  },
  {
   "cell_type": "markdown",
   "metadata": {},
   "source": [
    "#### Time Series Plots\n",
    "- Plot plot generation and stock metrics against report year to look for any time series trends"
   ]
  },
  {
   "cell_type": "code",
   "execution_count": 42,
   "metadata": {},
   "outputs": [],
   "source": [
    "#Aggregate the data by year\n",
    "df_agg = df_final_3.pivot_table(values=['generation', 'stock'],\n",
    "                                index=['report_year', 'fuel_type'], aggfunc=np.sum)\n",
    "df_agg.reset_index(inplace=True)"
   ]
  },
  {
   "cell_type": "code",
   "execution_count": 43,
   "metadata": {},
   "outputs": [],
   "source": [
    "def plot_time_series(df, feature, title, xlabel='Report Year', ylabel=None):\n",
    "    '''\n",
    "    This function generates a time series plot of the input feature.\n",
    "    \n",
    "    Input:\n",
    "        df (dataframe): Dataframe containing features to plot\n",
    "        feature (str): String value representing the feature within the dataframe to plot\n",
    "        title (str): Title of chart\n",
    "        xlabel (str): x-axis label of the chart\n",
    "        ylabel (str): y-axis label of the chart\n",
    "    \n",
    "    Output: None\n",
    "    '''\n",
    "    #Create lineplot object\n",
    "    time_series = sns.lineplot('report_year', feature, hue='fuel_type', data=df)\n",
    "    #Set title and x-axis and y-axis labels\n",
    "    time_series.set_title(title)\n",
    "    time_series.set_xlabel(xlabel)\n",
    "    time_series.set_ylabel(ylabel)\n",
    "    #Format legend, move to outside the figure area\n",
    "    handles, labels = time_series.get_legend_handles_labels()\n",
    "    time_series.legend(handles=handles[1:], labels=labels[1:], title='Fuel Type', bbox_to_anchor=(1, 1))"
   ]
  },
  {
   "cell_type": "code",
   "execution_count": 44,
   "metadata": {},
   "outputs": [
    {
     "data": {
      "image/png": "[encoded data removed]",
      "text/plain": [
       "<Figure size 432x288 with 1 Axes>"
      ]
     },
     "metadata": {
      "needs_background": "light"
     },
     "output_type": "display_data"
    }
   ],
   "source": [
    "#Create time series plot of power generation by fuel type\n",
    "ts_feat_gen = {'df' : df_agg, 'feature' : 'generation', 'title' : 'Annual Power Generation', \n",
    "               'ylabel' : 'Generation (MWh)'}\n",
    "\n",
    "plot_time_series(**ts_feat_gen)"
   ]
  },
  {
   "cell_type": "code",
   "execution_count": 45,
   "metadata": {},
   "outputs": [
    {
     "data": {
      "image/png": "[encoded data removed]",
      "text/plain": [
       "<Figure size 432x288 with 1 Axes>"
      ]
     },
     "metadata": {
      "needs_background": "light"
     },
     "output_type": "display_data"
    }
   ],
   "source": [
    "#Create time series plot of fuel stock by fuel type\n",
    "ts_feat_stock = {'df' : df_agg, 'feature' : 'stock', 'title' : 'Annual Stock', \n",
    "               'ylabel' : 'Stock'}\n",
    "\n",
    "plot_time_series(**ts_feat_stock)"
   ]
  },
  {
   "cell_type": "markdown",
   "metadata": {},
   "source": [
    "#### Generation vs. Stock by Fuel Type\n",
    "- Plot variables against each other to look for any correlations"
   ]
  },
  {
   "cell_type": "code",
   "execution_count": 46,
   "metadata": {},
   "outputs": [
    {
     "data": {
      "image/png": "[encoded data removed]",
      "text/plain": [
       "<Figure size 432x288 with 1 Axes>"
      ]
     },
     "metadata": {
      "needs_background": "light"
     },
     "output_type": "display_data"
    }
   ],
   "source": [
    "df_slice = df_agg.loc[df_agg['fuel_type']=='oil', ]\n",
    "\n",
    "sns.scatterplot('stock', 'generation', data=df_slice)\n",
    "plt.show()"
   ]
  },
  {
   "cell_type": "code",
   "execution_count": 47,
   "metadata": {},
   "outputs": [],
   "source": [
    "def corr_plot(df, fuel_type, x_feat='stock', y_feat='generation', \n",
    "              title='Feature Correlation', xlabel=None, ylabel=None):\n",
    "    '''\n",
    "    This function generates a scatter plot of x_feat vs. y_feat from the \n",
    "    provided dataframe sliced by the fuel type provided.\n",
    "    \n",
    "    Input:\n",
    "        df (dataframe): Dataframe containing x_feat and y_feat\n",
    "        fuel_type (str): Value to slice df by\n",
    "        x_feat (str): Name of the feature in df to plot on the x-axis\n",
    "        y_feat (str): Name of the feature in df to plot on the y-axis\n",
    "        title (str): String to set as chart title\n",
    "        xlabel (str): x-axis label\n",
    "        ylabel (str): y-axis label\n",
    "        \n",
    "    Output: None\n",
    "    '''\n",
    "    #Create slice of df\n",
    "    df_slice = df.loc[df['fuel_type']==fuel_type, ]\n",
    "    #Create chart object and format\n",
    "    corr_scatter = sns.scatterplot(x_feat, y_feat, data=df_slice)\n",
    "    corr_scatter.set_title(title)\n",
    "    corr_scatter.set_xlabel(xlabel)\n",
    "    corr_scatter.set_ylabel(ylabel)"
   ]
  },
  {
   "cell_type": "code",
   "execution_count": 48,
   "metadata": {},
   "outputs": [
    {
     "data": {
      "image/png": "[encoded data removed]",
      "text/plain": [
       "<Figure size 432x288 with 1 Axes>"
      ]
     },
     "metadata": {
      "needs_background": "light"
     },
     "output_type": "display_data"
    }
   ],
   "source": [
    "#Generate scatter plot for oil stock vs generation\n",
    "corr_feat_oil = {'df' : df_agg, 'fuel_type' : 'oil', 'x_feat' : 'stock', 'y_feat' : 'generation',\n",
    "             'title' : 'Oil Stock vs. Generation', 'xlabel' : 'Stock (barrels)', \n",
    "             'ylabel' : 'Generation (MWh)'}\n",
    "corr_plot(**corr_feat_oil)"
   ]
  },
  {
   "cell_type": "code",
   "execution_count": 49,
   "metadata": {},
   "outputs": [
    {
     "data": {
      "image/png": "[encoded data removed]",
      "text/plain": [
       "<Figure size 432x288 with 1 Axes>"
      ]
     },
     "metadata": {
      "needs_background": "light"
     },
     "output_type": "display_data"
    }
   ],
   "source": [
    "#Generate scatter plot for coal stock vs generation\n",
    "corr_feat_coal = {'df' : df_agg, 'fuel_type' : 'coal', 'x_feat' : 'stock', 'y_feat' : 'generation',\n",
    "             'title' : 'Coal Stock vs. Generation', 'xlabel' : 'Stock (short tons)', \n",
    "             'ylabel' : 'Generation (MWh)'}\n",
    "corr_plot(**corr_feat_oil)"
   ]
  },
  {
   "cell_type": "code",
   "execution_count": 50,
   "metadata": {},
   "outputs": [
    {
     "data": {
      "image/png": "[encoded data removed]",
      "text/plain": [
       "<Figure size 432x288 with 1 Axes>"
      ]
     },
     "metadata": {
      "needs_background": "light"
     },
     "output_type": "display_data"
    }
   ],
   "source": [
    "#Generate scatter plot for petcoke stock vs generation\n",
    "corr_feat_petcoke = {'df' : df_agg, 'fuel_type' : 'petcoke', 'x_feat' : 'stock', 'y_feat' : 'generation',\n",
    "             'title' : 'Petcoke Stock vs. Generation', 'xlabel' : 'Stock (short tons)', \n",
    "             'ylabel' : 'Generation (MWh)'}\n",
    "corr_plot(**corr_feat_petcoke)"
   ]
  },
  {
   "cell_type": "code",
   "execution_count": 51,
   "metadata": {},
   "outputs": [
    {
     "data": {
      "image/png": "[encoded data removed]",
      "text/plain": [
       "<Figure size 432x288 with 1 Axes>"
      ]
     },
     "metadata": {
      "needs_background": "light"
     },
     "output_type": "display_data"
    }
   ],
   "source": [
    "#Generate scatter plot for boiler fuel consumed vs generation\n",
    "corr_feat_boiler = {'df' : df_agg, 'fuel_type' : 'boiler fuel', 'x_feat' : 'stock', 'y_feat' : 'generation',\n",
    "             'title' : 'Boiler Fuel Stock vs. Generation', 'xlabel' : 'Boiler Fuel Consumed (short tons)', \n",
    "             'ylabel' : 'Generation (MWh)'}\n",
    "corr_plot(**corr_feat_boiler)"
   ]
  }
 ],
 "metadata": {
  "kernelspec": {
   "display_name": "Python 3",
   "language": "python",
   "name": "python3"
  },
  "language_info": {
   "codemirror_mode": {
    "name": "ipython",
    "version": 3
   },
   "file_extension": ".py",
   "mimetype": "text/x-python",
   "name": "python",
   "nbconvert_exporter": "python",
   "pygments_lexer": "ipython3",
   "version": "3.6.9"
  }
 },
 "nbformat": 4,
 "nbformat_minor": 2
}
